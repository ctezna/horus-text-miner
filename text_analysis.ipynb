{
 "cells": [
  {
   "cell_type": "markdown",
   "metadata": {},
   "source": [
    "# Exploratory Text Analysis"
   ]
  },
  {
   "cell_type": "code",
   "execution_count": 555,
   "metadata": {},
   "outputs": [
    {
     "name": "stdout",
     "output_type": "stream",
     "text": [
      "['i', 'me', 'my', 'myself', 'we', 'our', 'ours', 'ourselves', 'you', \"you're\", \"you've\", \"you'll\", \"you'd\", 'your', 'yours', 'yourself', 'yourselves', 'he', 'him', 'his', 'himself', 'she', \"she's\", 'her', 'hers', 'herself', 'it', \"it's\", 'its', 'itself', 'they', 'them', 'their', 'theirs', 'themselves', 'what', 'which', 'who', 'whom', 'this', 'that', \"that'll\", 'these', 'those', 'am', 'is', 'are', 'was', 'were', 'be', 'been', 'being', 'have', 'has', 'had', 'having', 'do', 'does', 'did', 'doing', 'a', 'an', 'the', 'and', 'but', 'if', 'or', 'because', 'as', 'until', 'while', 'of', 'at', 'by', 'for', 'with', 'about', 'against', 'between', 'into', 'through', 'during', 'before', 'after', 'above', 'below', 'to', 'from', 'up', 'down', 'in', 'out', 'on', 'off', 'over', 'under', 'again', 'further', 'then', 'once', 'here', 'there', 'when', 'where', 'why', 'how', 'all', 'any', 'both', 'each', 'few', 'more', 'most', 'other', 'some', 'such', 'no', 'nor', 'not', 'only', 'own', 'same', 'so', 'than', 'too', 'very', 's', 't', 'can', 'will', 'just', 'don', \"don't\", 'should', \"should've\", 'now', 'd', 'll', 'm', 'o', 're', 've', 'y', 'ain', 'aren', \"aren't\", 'couldn', \"couldn't\", 'didn', \"didn't\", 'doesn', \"doesn't\", 'hadn', \"hadn't\", 'hasn', \"hasn't\", 'haven', \"haven't\", 'isn', \"isn't\", 'ma', 'mightn', \"mightn't\", 'mustn', \"mustn't\", 'needn', \"needn't\", 'shan', \"shan't\", 'shouldn', \"shouldn't\", 'wasn', \"wasn't\", 'weren', \"weren't\", 'won', \"won't\", 'wouldn', \"wouldn't\", 'said', 'the', '``', \"''\", \"'d\", \"'ll\", \"'re\", \"'s\", \"'ve\", 'could', 'might', 'must', \"n't\", 'need', 'sha', 'wo', 'would', '!', '\"', '#', '$', '%', '&', \"'\", '(', ')', '*', '+', ',', '-', '.', '/', ':', ';', '<', '=', '>', '?', '@', '[', '\\\\', ']', '^', '_', '`', '{', '|', '}', '~']\n"
     ]
    },
    {
     "name": "stderr",
     "output_type": "stream",
     "text": [
      "[nltk_data] Downloading package stopwords to\n",
      "[nltk_data]     /Users/carlostezna/nltk_data...\n",
      "[nltk_data]   Package stopwords is already up-to-date!\n"
     ]
    }
   ],
   "source": [
    "import nltk\n",
    "from nltk.corpus import stopwords\n",
    "from nltk.tokenize import word_tokenize\n",
    "import string\n",
    "nltk.download('stopwords')\n",
    "stopwords = stopwords.words('english')\n",
    "remove_terms = ['said','the', '``', \"''\", \"'d\", \"'ll\", \"'re\", \"'s\", \"'ve\", 'could', 'might', 'must', \"n't\", 'need', 'sha', 'wo', 'would']\n",
    "stopwords = stopwords + remove_terms + list(string.punctuation)\n",
    "print(stopwords)\n",
    "lemmatizer = nltk.WordNetLemmatizer()"
   ]
  },
  {
   "cell_type": "code",
   "execution_count": 125,
   "metadata": {},
   "outputs": [],
   "source": [
    "def preprocess(document):\n",
    "        \"\"\"\n",
    "        Tokenizes documents then normalizes and lemmatizes tokens\n",
    "        \"\"\"\n",
    "        from nltk.tokenize import word_tokenize\n",
    "        words = word_tokenize(document)\n",
    "        words_clean = []\n",
    "        for word in words: # Go through every word in your tokens list\n",
    "            w = word.lower()\n",
    "            if (w not in stopwords):  # remove stopwords and punctuation\n",
    "                words_clean.append(lemmatizer.lemmatize(w))\n",
    "        return words_clean"
   ]
  },
  {
   "cell_type": "code",
   "execution_count": 11,
   "metadata": {},
   "outputs": [],
   "source": [
    "def load_document(file):\n",
    "    f = open(file)\n",
    "    try:\n",
    "        raw = f.read()\n",
    "        return file.split('/')[-1], raw\n",
    "    except:\n",
    "        print(file)\n",
    "        pass\n",
    "\n",
    "def load_collection(files):\n",
    "    texts = []\n",
    "    for file in files:\n",
    "        doc_id, text = load_document(file)\n",
    "        texts.append(text)\n",
    "    return texts"
   ]
  },
  {
   "cell_type": "code",
   "execution_count": 118,
   "metadata": {},
   "outputs": [],
   "source": [
    "import os\n",
    "COLLECTION_DIR = './dataset/newDataset/'\n",
    "files = [COLLECTION_DIR + file for file in os.listdir(COLLECTION_DIR)]\n",
    "\n",
    "corpus = load_collection(files)"
   ]
  },
  {
   "cell_type": "markdown",
   "metadata": {},
   "source": [
    "# Feature Extraction"
   ]
  },
  {
   "cell_type": "code",
   "execution_count": 528,
   "metadata": {},
   "outputs": [],
   "source": [
    "from sklearn.feature_extraction.text import TfidfVectorizer\n",
    "import pandas as pd\n",
    "\n",
    "# using default tokenizer in TfidfVectorizer\n",
    "tfidf = TfidfVectorizer(token_pattern='(\\S+)', min_df=3, max_df=0.8, \n",
    "                        ngram_range=(1, 2), stop_words=stopwords, tokenizer=word_tokenize)\n",
    "features = tfidf.fit_transform(corpus)\n",
    "df = pd.DataFrame(\n",
    "        features.todense(),\n",
    "        columns=tfidf.get_feature_names()\n",
    "    )"
   ]
  },
  {
   "cell_type": "code",
   "execution_count": 529,
   "metadata": {},
   "outputs": [
    {
     "data": {
      "text/html": [
       "<div>\n",
       "<style scoped>\n",
       "    .dataframe tbody tr th:only-of-type {\n",
       "        vertical-align: middle;\n",
       "    }\n",
       "\n",
       "    .dataframe tbody tr th {\n",
       "        vertical-align: top;\n",
       "    }\n",
       "\n",
       "    .dataframe thead th {\n",
       "        text-align: right;\n",
       "    }\n",
       "</style>\n",
       "<table border=\"1\" class=\"dataframe\">\n",
       "  <thead>\n",
       "    <tr style=\"text-align: right;\">\n",
       "      <th></th>\n",
       "      <th>'best</th>\n",
       "      <th>'bot</th>\n",
       "      <th>'bot nets</th>\n",
       "      <th>'cold</th>\n",
       "      <th>'cold calls</th>\n",
       "      <th>'could</th>\n",
       "      <th>'do</th>\n",
       "      <th>'eu</th>\n",
       "      <th>'goodbye</th>\n",
       "      <th>'goodbye said</th>\n",
       "      <th>...</th>\n",
       "      <th>£8.5bn</th>\n",
       "      <th>£800m</th>\n",
       "      <th>£800m 1.5bn</th>\n",
       "      <th>£80m</th>\n",
       "      <th>£857m</th>\n",
       "      <th>£8bn</th>\n",
       "      <th>£8m</th>\n",
       "      <th>£9.4m</th>\n",
       "      <th>£99</th>\n",
       "      <th>£9m</th>\n",
       "    </tr>\n",
       "  </thead>\n",
       "  <tbody>\n",
       "    <tr>\n",
       "      <th>0</th>\n",
       "      <td>0.0</td>\n",
       "      <td>0.0</td>\n",
       "      <td>0.0</td>\n",
       "      <td>0.0</td>\n",
       "      <td>0.0</td>\n",
       "      <td>0.0</td>\n",
       "      <td>0.0</td>\n",
       "      <td>0.0</td>\n",
       "      <td>0.0</td>\n",
       "      <td>0.0</td>\n",
       "      <td>...</td>\n",
       "      <td>0.0</td>\n",
       "      <td>0.0</td>\n",
       "      <td>0.0</td>\n",
       "      <td>0.0</td>\n",
       "      <td>0.0</td>\n",
       "      <td>0.0</td>\n",
       "      <td>0.0</td>\n",
       "      <td>0.0</td>\n",
       "      <td>0.0</td>\n",
       "      <td>0.0</td>\n",
       "    </tr>\n",
       "    <tr>\n",
       "      <th>1</th>\n",
       "      <td>0.0</td>\n",
       "      <td>0.0</td>\n",
       "      <td>0.0</td>\n",
       "      <td>0.0</td>\n",
       "      <td>0.0</td>\n",
       "      <td>0.0</td>\n",
       "      <td>0.0</td>\n",
       "      <td>0.0</td>\n",
       "      <td>0.0</td>\n",
       "      <td>0.0</td>\n",
       "      <td>...</td>\n",
       "      <td>0.0</td>\n",
       "      <td>0.0</td>\n",
       "      <td>0.0</td>\n",
       "      <td>0.0</td>\n",
       "      <td>0.0</td>\n",
       "      <td>0.0</td>\n",
       "      <td>0.0</td>\n",
       "      <td>0.0</td>\n",
       "      <td>0.0</td>\n",
       "      <td>0.0</td>\n",
       "    </tr>\n",
       "    <tr>\n",
       "      <th>2</th>\n",
       "      <td>0.0</td>\n",
       "      <td>0.0</td>\n",
       "      <td>0.0</td>\n",
       "      <td>0.0</td>\n",
       "      <td>0.0</td>\n",
       "      <td>0.0</td>\n",
       "      <td>0.0</td>\n",
       "      <td>0.0</td>\n",
       "      <td>0.0</td>\n",
       "      <td>0.0</td>\n",
       "      <td>...</td>\n",
       "      <td>0.0</td>\n",
       "      <td>0.0</td>\n",
       "      <td>0.0</td>\n",
       "      <td>0.0</td>\n",
       "      <td>0.0</td>\n",
       "      <td>0.0</td>\n",
       "      <td>0.0</td>\n",
       "      <td>0.0</td>\n",
       "      <td>0.0</td>\n",
       "      <td>0.0</td>\n",
       "    </tr>\n",
       "    <tr>\n",
       "      <th>3</th>\n",
       "      <td>0.0</td>\n",
       "      <td>0.0</td>\n",
       "      <td>0.0</td>\n",
       "      <td>0.0</td>\n",
       "      <td>0.0</td>\n",
       "      <td>0.0</td>\n",
       "      <td>0.0</td>\n",
       "      <td>0.0</td>\n",
       "      <td>0.0</td>\n",
       "      <td>0.0</td>\n",
       "      <td>...</td>\n",
       "      <td>0.0</td>\n",
       "      <td>0.0</td>\n",
       "      <td>0.0</td>\n",
       "      <td>0.0</td>\n",
       "      <td>0.0</td>\n",
       "      <td>0.0</td>\n",
       "      <td>0.0</td>\n",
       "      <td>0.0</td>\n",
       "      <td>0.0</td>\n",
       "      <td>0.0</td>\n",
       "    </tr>\n",
       "    <tr>\n",
       "      <th>4</th>\n",
       "      <td>0.0</td>\n",
       "      <td>0.0</td>\n",
       "      <td>0.0</td>\n",
       "      <td>0.0</td>\n",
       "      <td>0.0</td>\n",
       "      <td>0.0</td>\n",
       "      <td>0.0</td>\n",
       "      <td>0.0</td>\n",
       "      <td>0.0</td>\n",
       "      <td>0.0</td>\n",
       "      <td>...</td>\n",
       "      <td>0.0</td>\n",
       "      <td>0.0</td>\n",
       "      <td>0.0</td>\n",
       "      <td>0.0</td>\n",
       "      <td>0.0</td>\n",
       "      <td>0.0</td>\n",
       "      <td>0.0</td>\n",
       "      <td>0.0</td>\n",
       "      <td>0.0</td>\n",
       "      <td>0.0</td>\n",
       "    </tr>\n",
       "  </tbody>\n",
       "</table>\n",
       "<p>5 rows × 31809 columns</p>\n",
       "</div>"
      ],
      "text/plain": [
       "   'best  'bot  'bot nets  'cold  'cold calls  'could  'do  'eu  'goodbye  \\\n",
       "0    0.0   0.0        0.0    0.0          0.0     0.0  0.0  0.0       0.0   \n",
       "1    0.0   0.0        0.0    0.0          0.0     0.0  0.0  0.0       0.0   \n",
       "2    0.0   0.0        0.0    0.0          0.0     0.0  0.0  0.0       0.0   \n",
       "3    0.0   0.0        0.0    0.0          0.0     0.0  0.0  0.0       0.0   \n",
       "4    0.0   0.0        0.0    0.0          0.0     0.0  0.0  0.0       0.0   \n",
       "\n",
       "   'goodbye said  ...  £8.5bn  £800m  £800m 1.5bn  £80m  £857m  £8bn  £8m  \\\n",
       "0            0.0  ...     0.0    0.0          0.0   0.0    0.0   0.0  0.0   \n",
       "1            0.0  ...     0.0    0.0          0.0   0.0    0.0   0.0  0.0   \n",
       "2            0.0  ...     0.0    0.0          0.0   0.0    0.0   0.0  0.0   \n",
       "3            0.0  ...     0.0    0.0          0.0   0.0    0.0   0.0  0.0   \n",
       "4            0.0  ...     0.0    0.0          0.0   0.0    0.0   0.0  0.0   \n",
       "\n",
       "   £9.4m  £99  £9m  \n",
       "0    0.0  0.0  0.0  \n",
       "1    0.0  0.0  0.0  \n",
       "2    0.0  0.0  0.0  \n",
       "3    0.0  0.0  0.0  \n",
       "4    0.0  0.0  0.0  \n",
       "\n",
       "[5 rows x 31809 columns]"
      ]
     },
     "execution_count": 529,
     "metadata": {},
     "output_type": "execute_result"
    }
   ],
   "source": [
    "df.head()"
   ]
  },
  {
   "cell_type": "code",
   "execution_count": 530,
   "metadata": {},
   "outputs": [
    {
     "data": {
      "text/plain": [
       "31809"
      ]
     },
     "execution_count": 530,
     "metadata": {},
     "output_type": "execute_result"
    }
   ],
   "source": [
    "len(tfidf.vocabulary_)"
   ]
  },
  {
   "cell_type": "code",
   "execution_count": 764,
   "metadata": {},
   "outputs": [
    {
     "data": {
      "text/plain": [
       "2135"
      ]
     },
     "execution_count": 764,
     "metadata": {},
     "output_type": "execute_result"
    }
   ],
   "source": [
    "len(corpus)"
   ]
  },
  {
   "cell_type": "code",
   "execution_count": 340,
   "metadata": {},
   "outputs": [
    {
     "name": "stdout",
     "output_type": "stream",
     "text": [
      "[('16-year-old', 'depressed'), ('1990', '2004'), ('1999', '2003'), ('2', 'european'), ('2004', '25'), ('address', 'issue'), ('alerted', 'experience'), ('also', 'highlighted'), ('amount', 'serious'), ('appearance', 'series')]\n"
     ]
    }
   ],
   "source": [
    "from nltk.collocations import *\n",
    "bigram_measures = nltk.collocations.BigramAssocMeasures()\n",
    "doc_set = [preprocess(doc) for doc in corpus]\n",
    "finder = BigramCollocationFinder.from_words(doc_set[0])\n",
    "print(finder.nbest(bigram_measures.pmi, 10))\n",
    "#finder.apply_freq_filter(10)"
   ]
  },
  {
   "cell_type": "code",
   "execution_count": 341,
   "metadata": {},
   "outputs": [
    {
     "data": {
      "text/plain": [
       "[(('vulnerable', 'people'), 0.014705882352941176),\n",
       " (('taking', 'life'), 0.011029411764705883),\n",
       " (('alcohol', 'problem'), 0.007352941176470588),\n",
       " (('bar', 'cell'), 0.007352941176470588),\n",
       " (('custody', 'death'), 0.007352941176470588),\n",
       " (('death', 'custody'), 0.007352941176470588),\n",
       " (('death', 'rate'), 0.007352941176470588),\n",
       " (('drug', 'alcohol'), 0.007352941176470588),\n",
       " (('highly', 'vulnerable'), 0.007352941176470588),\n",
       " (('human', 'right'), 0.007352941176470588)]"
      ]
     },
     "execution_count": 341,
     "metadata": {},
     "output_type": "execute_result"
    }
   ],
   "source": [
    "word_fd = nltk.FreqDist(doc_set[0])\n",
    "bigram_fd = nltk.FreqDist(nltk.bigrams(doc_set[0]))\n",
    "finder = BigramCollocationFinder(word_fd, bigram_fd)\n",
    "finder.score_ngrams(bigram_measures.raw_freq)[0:10]"
   ]
  },
  {
   "cell_type": "code",
   "execution_count": 348,
   "metadata": {},
   "outputs": [
    {
     "data": {
      "text/plain": [
       "[(('drug', 'alcohol', 'problem'), 0.007352941176470588),\n",
       " (('life', 'highly', 'vulnerable'), 0.007352941176470588),\n",
       " ((\"'shocks\", 'mp', 'death'), 0.003676470588235294),\n",
       " (('16-year-old', 'depressed', 'exhibiting'), 0.003676470588235294),\n",
       " (('1990', '2004', '25'), 0.003676470588235294),\n",
       " (('1999', '2003', 'mp'), 0.003676470588235294),\n",
       " (('2', 'european', 'convention'), 0.003676470588235294),\n",
       " (('2002', 'urged', 'home'), 0.003676470588235294),\n",
       " (('2003', 'mp', 'said'), 0.003676470588235294),\n",
       " (('2004', '25', 'child'), 0.003676470588235294)]"
      ]
     },
     "execution_count": 348,
     "metadata": {},
     "output_type": "execute_result"
    }
   ],
   "source": [
    "trigram_measures = nltk.collocations.TrigramAssocMeasures()\n",
    "finder = TrigramCollocationFinder.from_words(doc_set[0])\n",
    "finder.score_ngrams(trigram_measures.raw_freq)[0:10]"
   ]
  },
  {
   "cell_type": "markdown",
   "metadata": {},
   "source": [
    "# Topic Modeling"
   ]
  },
  {
   "cell_type": "code",
   "execution_count": 556,
   "metadata": {},
   "outputs": [],
   "source": [
    "import gensim\n",
    "from gensim import corpora, models\n",
    "dictionary = corpora.Dictionary(preprocess(doc) for doc in corpus)\n",
    "bow = [dictionary.doc2bow(preprocess(doc)) for doc in corpus]"
   ]
  },
  {
   "cell_type": "code",
   "execution_count": 557,
   "metadata": {},
   "outputs": [
    {
     "name": "stdout",
     "output_type": "stream",
     "text": [
      "Train time:  97.81347012519836\n"
     ]
    }
   ],
   "source": [
    "import time\n",
    "start = time.time()\n",
    "ldamodel = models.ldamodel.LdaModel(bow, num_topics=20, id2word=dictionary, passes=50, minimum_probability=0.1)\n",
    "end = time.time()\n",
    "print('Train time: ', end - start)"
   ]
  },
  {
   "cell_type": "code",
   "execution_count": 763,
   "metadata": {},
   "outputs": [
    {
     "name": "stdout",
     "output_type": "stream",
     "text": [
      "(0, '0.022*\"mr\" + 0.010*\"people\" + 0.010*\"school\" + 0.009*\"also\" + 0.007*\"say\" + 0.007*\"eu\" + 0.007*\"campaign\" + 0.006*\"country\" + 0.005*\"international\" + 0.005*\"east\" + 0.005*\"government\" + 0.005*\"year\" + 0.005*\"ukip\" + 0.005*\"uk\" + 0.005*\"plan\" + 0.004*\"north\" + 0.004*\"bell\" + 0.004*\"area\" + 0.004*\"health\" + 0.004*\"member\"')\n",
      "\n",
      "(1, '0.023*\"phone\" + 0.016*\"mobile\" + 0.013*\"people\" + 0.013*\"camera\" + 0.011*\"firm\" + 0.009*\"service\" + 0.007*\"message\" + 0.007*\"consumer\" + 0.007*\"multimedia\" + 0.006*\"customer\" + 0.006*\"new\" + 0.006*\"get\" + 0.006*\"mr\" + 0.006*\"image\" + 0.005*\"sold\" + 0.005*\"month\" + 0.005*\"way\" + 0.005*\"japan\" + 0.005*\"number\" + 0.005*\"vodafone\"')\n",
      "\n",
      "(2, '0.030*\"police\" + 0.011*\"power\" + 0.010*\"men\" + 0.009*\"officer\" + 0.009*\"csos\" + 0.009*\"home\" + 0.008*\"plan\" + 0.008*\"offence\" + 0.007*\"authority\" + 0.007*\"policing\" + 0.007*\"wale\" + 0.007*\"act\" + 0.007*\"community\" + 0.006*\"house\" + 0.006*\"castaignede\" + 0.006*\"common\" + 0.006*\"hunting\" + 0.006*\"chamber\" + 0.006*\"hunt\" + 0.006*\"commissioner\"')\n",
      "\n",
      "(3, '0.012*\"ireland\" + 0.010*\"world\" + 0.007*\"irish\" + 0.006*\"last\" + 0.006*\"win\" + 0.006*\"also\" + 0.005*\"year\" + 0.005*\"victory\" + 0.005*\"try\" + 0.005*\"minute\" + 0.005*\"france\" + 0.005*\"glazer\" + 0.005*\"game\" + 0.005*\"o\\'gara\" + 0.004*\"olympic\" + 0.004*\"three\" + 0.004*\"south\" + 0.004*\"team\" + 0.004*\"italy\" + 0.004*\"test\"')\n",
      "\n",
      "(4, '0.024*\"oil\" + 0.019*\"yukos\" + 0.015*\"india\" + 0.014*\"mr\" + 0.012*\"gas\" + 0.012*\"russia\" + 0.011*\"company\" + 0.011*\"russian\" + 0.011*\"energy\" + 0.010*\"year\" + 0.009*\"davis\" + 0.008*\"deal\" + 0.007*\"court\" + 0.007*\"also\" + 0.007*\"gazprom\" + 0.007*\"khodorkovsky\" + 0.006*\"sale\" + 0.006*\"tax\" + 0.006*\"yugansk\" + 0.006*\"part\"')\n",
      "\n",
      "(5, '0.021*\"mobile\" + 0.016*\"technology\" + 0.013*\"music\" + 0.010*\"digital\" + 0.010*\"system\" + 0.010*\"phone\" + 0.009*\"network\" + 0.007*\"people\" + 0.007*\"one\" + 0.007*\"3g\" + 0.006*\"year\" + 0.006*\"pc\" + 0.006*\"device\" + 0.006*\"service\" + 0.006*\"show\" + 0.005*\"data\" + 0.005*\"computer\" + 0.005*\"player\" + 0.005*\"tv\" + 0.005*\"broadband\"')\n",
      "\n",
      "(6, '0.014*\"casino\" + 0.012*\"card\" + 0.012*\"bnp\" + 0.012*\"bill\" + 0.011*\"id\" + 0.011*\"game\" + 0.009*\"sony\" + 0.009*\"console\" + 0.008*\"new\" + 0.007*\"gaming\" + 0.007*\"u\" + 0.006*\"tory\" + 0.006*\"also\" + 0.006*\"gambling\" + 0.006*\"nintendo\" + 0.006*\"gamers\" + 0.006*\"move\" + 0.005*\"going\" + 0.005*\"government\" + 0.005*\"2\"')\n",
      "\n",
      "(7, '0.034*\"mr\" + 0.017*\"labour\" + 0.016*\"election\" + 0.015*\"party\" + 0.015*\"tory\" + 0.011*\"blair\" + 0.011*\"say\" + 0.008*\"howard\" + 0.008*\"minister\" + 0.008*\"people\" + 0.007*\"leader\" + 0.007*\"campaign\" + 0.007*\"prime\" + 0.006*\"make\" + 0.006*\"mp\" + 0.006*\"student\" + 0.006*\"government\" + 0.006*\"told\" + 0.005*\"lib\" + 0.005*\"britain\"')\n",
      "\n",
      "(8, '0.012*\"airline\" + 0.011*\"blog\" + 0.011*\"m\" + 0.010*\"edu\" + 0.009*\"deal\" + 0.009*\"delta\" + 0.009*\"club\" + 0.009*\"simonetti\" + 0.008*\"liverpool\" + 0.006*\"want\" + 0.006*\"right\" + 0.006*\"u\" + 0.006*\"sky\" + 0.006*\"sign\" + 0.005*\"news\" + 0.005*\"month\" + 0.005*\"benitez\" + 0.005*\"baros\" + 0.005*\"bbc\" + 0.005*\"image\"')\n",
      "\n",
      "(9, '0.013*\"game\" + 0.010*\"new\" + 0.010*\"cup\" + 0.009*\"win\" + 0.009*\"first\" + 0.008*\"time\" + 0.008*\"zealand\" + 0.008*\"side\" + 0.008*\"v\" + 0.007*\"player\" + 0.007*\"league\" + 0.007*\"wale\" + 0.007*\"season\" + 0.006*\"match\" + 0.006*\"team\" + 0.006*\"year\" + 0.006*\"world\" + 0.006*\"rugby\" + 0.006*\"two\" + 0.005*\"final\"')\n",
      "\n",
      "(10, '0.032*\"film\" + 0.012*\"festival\" + 0.008*\"year\" + 0.008*\"director\" + 0.007*\"one\" + 0.006*\"world\" + 0.006*\"hip-hop\" + 0.005*\"movie\" + 0.004*\"first\" + 0.004*\"carry\" + 0.004*\"say\" + 0.004*\"music\" + 0.004*\"box\" + 0.004*\"millan\" + 0.004*\"spanish\" + 0.004*\"production\" + 0.004*\"event\" + 0.004*\"star\" + 0.004*\"u\" + 0.004*\"radio\"')\n",
      "\n",
      "(11, '0.016*\"wale\" + 0.012*\"llewellyn\" + 0.011*\"going\" + 0.009*\"michael\" + 0.008*\"career\" + 0.008*\"film\" + 0.007*\"really\" + 0.007*\"nation\" + 0.007*\"six\" + 0.007*\"anelka\" + 0.007*\"year\" + 0.006*\"added\" + 0.006*\"great\" + 0.006*\"end\" + 0.006*\"told\" + 0.006*\"contract\" + 0.006*\"life\" + 0.006*\"player\" + 0.006*\"playing\" + 0.006*\"still\"')\n",
      "\n",
      "(12, '0.019*\"award\" + 0.018*\"best\" + 0.010*\"show\" + 0.009*\"star\" + 0.009*\"winner\" + 0.008*\"year\" + 0.008*\"also\" + 0.007*\"actor\" + 0.007*\"50\" + 0.007*\"music\" + 0.007*\"oscar\" + 0.007*\"film\" + 0.006*\"u\" + 0.006*\"woman\" + 0.006*\"bbc\" + 0.005*\"nomination\" + 0.005*\"cent\" + 0.005*\"album\" + 0.005*\"one\" + 0.004*\"two\"')\n",
      "\n",
      "(13, '0.012*\"game\" + 0.012*\"one\" + 0.009*\"number\" + 0.007*\"band\" + 0.006*\"people\" + 0.006*\"new\" + 0.005*\"single\" + 0.005*\"child\" + 0.005*\"top\" + 0.005*\"week\" + 0.005*\"chart\" + 0.004*\"record\" + 0.004*\"album\" + 0.004*\"singer\" + 0.004*\"three\" + 0.004*\"rock\" + 0.004*\"music\" + 0.004*\"went\" + 0.004*\"uk\" + 0.004*\"hit\"')\n",
      "\n",
      "(14, '0.014*\"year\" + 0.013*\"brown\" + 0.010*\"economy\" + 0.009*\"tax\" + 0.008*\"economic\" + 0.008*\"government\" + 0.008*\"rate\" + 0.007*\"pension\" + 0.007*\"duty\" + 0.006*\"market\" + 0.006*\"budget\" + 0.006*\"spending\" + 0.006*\"u\" + 0.006*\"chancellor\" + 0.005*\"worker\" + 0.005*\"increase\" + 0.005*\"fund\" + 0.004*\"rise\" + 0.004*\"growth\" + 0.004*\"2005\"')\n",
      "\n",
      "(15, '0.013*\"dollar\" + 0.012*\"site\" + 0.011*\"program\" + 0.011*\"user\" + 0.010*\"security\" + 0.010*\"firm\" + 0.008*\"microsoft\" + 0.008*\"software\" + 0.008*\"virus\" + 0.007*\"many\" + 0.006*\"net\" + 0.006*\"euro\" + 0.006*\"data\" + 0.006*\"deutsche\" + 0.006*\"e-mail\" + 0.006*\"criminal\" + 0.005*\"currency\" + 0.005*\"shareholder\" + 0.005*\"domain\" + 0.005*\"boerse\"')\n",
      "\n",
      "(16, '0.033*\"england\" + 0.017*\"j\" + 0.017*\"france\" + 0.013*\"robinson\" + 0.011*\"leicester\" + 0.010*\"hodgson\" + 0.010*\"bath\" + 0.010*\"penalty\" + 0.010*\"barkley\" + 0.009*\"ball\" + 0.008*\"six\" + 0.007*\"sale\" + 0.007*\"lewsey\" + 0.007*\"minute\" + 0.006*\"two\" + 0.006*\"shark\" + 0.006*\"kick\" + 0.006*\"stevens\" + 0.006*\"opening\" + 0.006*\"wide\"')\n",
      "\n",
      "(17, '0.015*\"case\" + 0.015*\"law\" + 0.014*\"court\" + 0.013*\"lord\" + 0.012*\"right\" + 0.010*\"government\" + 0.009*\"human\" + 0.008*\"mr\" + 0.008*\"trial\" + 0.008*\"legal\" + 0.006*\"minister\" + 0.006*\"evidence\" + 0.006*\"secretary\" + 0.006*\"new\" + 0.005*\"power\" + 0.005*\"clarke\" + 0.005*\"foreign\" + 0.005*\"home\" + 0.005*\"public\" + 0.005*\"house\"')\n",
      "\n",
      "(18, '0.009*\"player\" + 0.009*\"game\" + 0.008*\"thing\" + 0.008*\"think\" + 0.007*\"get\" + 0.006*\"good\" + 0.006*\"like\" + 0.006*\"know\" + 0.005*\"time\" + 0.005*\"lot\" + 0.005*\"\\'m\" + 0.005*\"go\" + 0.005*\"even\" + 0.005*\"day\" + 0.004*\"big\" + 0.004*\"well\" + 0.004*\"livingstone\" + 0.004*\"arsenal\" + 0.004*\"match\" + 0.004*\"apologise\"')\n",
      "\n",
      "(19, '0.009*\"u\" + 0.009*\"year\" + 0.006*\"also\" + 0.006*\"report\" + 0.006*\"company\" + 0.006*\"mr\" + 0.005*\"new\" + 0.005*\"china\" + 0.005*\"2004\" + 0.005*\"people\" + 0.005*\"month\" + 0.005*\"last\" + 0.005*\"sale\" + 0.005*\"news\" + 0.004*\"time\" + 0.004*\"firm\" + 0.004*\"price\" + 0.004*\"profit\" + 0.004*\"uk\" + 0.004*\"share\"')\n",
      "\n"
     ]
    }
   ],
   "source": [
    "topics = ldamodel.print_topics(num_topics=20, num_words=20)\n",
    "for t in topics:\n",
    "    print(t)\n",
    "    print()"
   ]
  },
  {
   "cell_type": "code",
   "execution_count": 572,
   "metadata": {},
   "outputs": [
    {
     "data": {
      "text/plain": [
       "[('mr', 0.033849884),\n",
       " ('labour', 0.016744204),\n",
       " ('election', 0.015839843),\n",
       " ('party', 0.015327615),\n",
       " ('tory', 0.01469126),\n",
       " ('blair', 0.011385909),\n",
       " ('say', 0.011297151),\n",
       " ('howard', 0.008468125),\n",
       " ('minister', 0.008309312),\n",
       " ('people', 0.0075308434),\n",
       " ('leader', 0.006769998),\n",
       " ('campaign', 0.0067287604),\n",
       " ('prime', 0.0066819917),\n",
       " ('make', 0.0060810056),\n",
       " ('mp', 0.005895772),\n",
       " ('student', 0.005760478),\n",
       " ('government', 0.00574761),\n",
       " ('told', 0.005530442),\n",
       " ('lib', 0.0054735737),\n",
       " ('britain', 0.0053167245)]"
      ]
     },
     "execution_count": 572,
     "metadata": {},
     "output_type": "execute_result"
    }
   ],
   "source": [
    "ldamodel.show_topic(7, topn=20)"
   ]
  },
  {
   "cell_type": "code",
   "execution_count": 569,
   "metadata": {},
   "outputs": [
    {
     "data": {
      "text/plain": [
       "[(7, 0.11320306), (13, 0.123926796), (17, 0.3080736), (19, 0.22229713)]"
      ]
     },
     "execution_count": 569,
     "metadata": {},
     "output_type": "execute_result"
    }
   ],
   "source": [
    "doc_bow = dictionary.doc2bow(preprocess(corpus[0]))\n",
    "ldamodel.get_document_topics(doc_bow)"
   ]
  },
  {
   "cell_type": "markdown",
   "metadata": {},
   "source": [
    "# Word Embeddings"
   ]
  },
  {
   "cell_type": "code",
   "execution_count": 115,
   "metadata": {},
   "outputs": [],
   "source": [
    "wv_embeddings = gensim.models.KeyedVectors.load_word2vec_format('GoogleNews-vectors-negative300.bin.gz', \n",
    "                                                                binary = True)"
   ]
  },
  {
   "cell_type": "code",
   "execution_count": 765,
   "metadata": {},
   "outputs": [
    {
     "name": "stdout",
     "output_type": "stream",
     "text": [
      "[('queen', 0.7118192911148071), ('monarch', 0.6189674139022827), ('princess', 0.5902431607246399), ('crown_prince', 0.5499460697174072), ('prince', 0.5377321243286133), ('kings', 0.5236844420433044), ('Queen_Consort', 0.5235945582389832), ('queens', 0.5181134343147278), ('sultan', 0.5098593235015869), ('monarchy', 0.5087411999702454)]\n"
     ]
    }
   ],
   "source": [
    "analogy = wv_embeddings.most_similar(positive=['woman', 'king'], negative=['man'])\n",
    "print(analogy)"
   ]
  },
  {
   "cell_type": "code",
   "execution_count": 545,
   "metadata": {},
   "outputs": [
    {
     "name": "stdout",
     "output_type": "stream",
     "text": [
      "[('sh_*_t', 0.8806686401367188), ('crap', 0.8299816250801086), ('fucking', 0.8001799583435059), ('sh_t', 0.7744057178497314), ('fuckin', 0.7668500542640686), ('sh_**', 0.7638066411018372), ('fuck', 0.7604621648788452), ('f_*_cking', 0.7250384092330933), (\"y'know\", 0.7228368520736694), ('shyt', 0.7212573885917664)]\n"
     ]
    }
   ],
   "source": [
    "similar_word = wv_embeddings.most_similar('shit')\n",
    "print(similar_word)"
   ]
  },
  {
   "cell_type": "markdown",
   "metadata": {},
   "source": [
    "# Word vectors"
   ]
  },
  {
   "cell_type": "code",
   "execution_count": 581,
   "metadata": {},
   "outputs": [],
   "source": [
    "import re\n",
    "from gensim.models import Word2Vec\n",
    "from gensim.models.phrases import Phraser, Phrases"
   ]
  },
  {
   "cell_type": "code",
   "execution_count": 582,
   "metadata": {},
   "outputs": [],
   "source": [
    "# Cleaning data - remove punctuation from every text\n",
    "texts = corpus.copy()\n",
    "sentences = []\n",
    "# Go through each text in turn\n",
    "for ii in range(len(texts)):\n",
    "    sentences = [re.sub(pattern=r'[\\!\"#$%&\\*+,-./:;<=>?@^_`()|~=]', \n",
    "                        repl='', \n",
    "                        string=x\n",
    "                       ).strip().split(' ') for x in texts[ii].split('\\n') \n",
    "                      if not x.endswith('writes:')]\n",
    "    sentences = [x for x in sentences if x != ['']]\n",
    "    texts[ii] = sentences"
   ]
  },
  {
   "cell_type": "code",
   "execution_count": 583,
   "metadata": {},
   "outputs": [],
   "source": [
    "# concatenate all sentences from all texts into a single list of sentences\n",
    "all_sentences = []\n",
    "for text in texts:\n",
    "    all_sentences += text"
   ]
  },
  {
   "cell_type": "code",
   "execution_count": 584,
   "metadata": {},
   "outputs": [],
   "source": [
    "# Phrase Detection\n",
    "# Give some common terms that can be ignored in phrase detection\n",
    "# For example, 'state_of_affairs' will be detected because 'of' is provided here: \n",
    "common_terms = [\"of\", \"with\", \"without\", \"and\", \"or\", \"the\", \"a\"]\n",
    "# Create the relevant phrases from the list of sentences:\n",
    "phrases = Phrases(all_sentences, common_terms=common_terms)\n",
    "# The Phraser object is used from now on to transform sentences\n",
    "bigram = Phraser(phrases)\n",
    "# Applying the Phraser to transform our sentences is simply\n",
    "all_sentences = list(bigram[all_sentences])"
   ]
  },
  {
   "cell_type": "code",
   "execution_count": 585,
   "metadata": {},
   "outputs": [
    {
     "name": "stdout",
     "output_type": "stream",
     "text": [
      "Train time:  56.32094478607178\n"
     ]
    }
   ],
   "source": [
    "import time\n",
    "start = time.time()\n",
    "model = Word2Vec(all_sentences, \n",
    "                 min_count=2,   # Ignore words that appear less than this\n",
    "                 size=200,      # Dimensionality of word embeddings\n",
    "                 workers=8,     # Number of processors (parallelisation)\n",
    "                 window=5,      # Context window for words during training\n",
    "                 iter=100)       # Number of epochs training over corpus\n",
    "end = time.time()\n",
    "print('Train time: ', end - start)"
   ]
  },
  {
   "cell_type": "code",
   "execution_count": 766,
   "metadata": {},
   "outputs": [
    {
     "data": {
      "text/plain": [
       "[('Yahoo', 0.48415762186050415),\n",
       " ('search_engine', 0.45970356464385986),\n",
       " ('site', 0.4212949275970459),\n",
       " ('web', 0.42027774453163147),\n",
       " ('search', 0.41543716192245483),\n",
       " ('Microsoft', 0.3831966519355774),\n",
       " ('users', 0.3824462294578552),\n",
       " ('MSN', 0.3818070888519287),\n",
       " ('Ask_Jeeves', 0.36329710483551025),\n",
       " ('AOL', 0.3607094883918762)]"
      ]
     },
     "execution_count": 766,
     "metadata": {},
     "output_type": "execute_result"
    }
   ],
   "source": [
    "model.wv.most_similar('Google') # == model.wv.similar_by_word('Apple')"
   ]
  },
  {
   "cell_type": "code",
   "execution_count": 756,
   "metadata": {},
   "outputs": [
    {
     "data": {
      "text/plain": [
       "0.9098354652523994"
      ]
     },
     "execution_count": 756,
     "metadata": {},
     "output_type": "execute_result"
    }
   ],
   "source": [
    "model.wv.distance('man', 'dog')"
   ]
  },
  {
   "cell_type": "code",
   "execution_count": 598,
   "metadata": {},
   "outputs": [
    {
     "data": {
      "text/plain": [
       "0.33836627"
      ]
     },
     "execution_count": 598,
     "metadata": {},
     "output_type": "execute_result"
    }
   ],
   "source": [
    "model.wv.similarity('Apple', 'Google')"
   ]
  },
  {
   "cell_type": "code",
   "execution_count": 600,
   "metadata": {},
   "outputs": [
    {
     "data": {
      "text/plain": [
       "['software',\n",
       " 'Microsoft',\n",
       " 'iPod',\n",
       " 'Nintendo',\n",
       " 'browser',\n",
       " 'iTunes',\n",
       " 'search_engine',\n",
       " 'operating_system',\n",
       " 'Mac_mini',\n",
       " 'Motorola',\n",
       " 'IPTV',\n",
       " 'Internet_Explorer']"
      ]
     },
     "execution_count": 600,
     "metadata": {},
     "output_type": "execute_result"
    }
   ],
   "source": [
    "model.wv.closer_than('Apple', 'Google') # returns entities that are more similar to Apple than Google"
   ]
  },
  {
   "cell_type": "markdown",
   "metadata": {},
   "source": [
    "# FastText Algorithm"
   ]
  },
  {
   "cell_type": "code",
   "execution_count": 639,
   "metadata": {},
   "outputs": [
    {
     "name": "stdout",
     "output_type": "stream",
     "text": [
      "Train time:  338.56731486320496\n"
     ]
    }
   ],
   "source": [
    "from gensim.models.fasttext import FastText\n",
    "import time\n",
    "start = time.time()\n",
    "fasttext_model = FastText(all_sentences, \n",
    "                 min_count=2,   # Ignore words that appear less than this\n",
    "                 size=200,      # Dimensionality of word embeddings\n",
    "                 workers=8,     # Number of processors (parallelisation)\n",
    "                 window=5,      # Context window for words during training\n",
    "                 iter=100) \n",
    "end = time.time()\n",
    "print('Train time: ', end - start)"
   ]
  },
  {
   "cell_type": "code",
   "execution_count": 757,
   "metadata": {},
   "outputs": [
    {
     "data": {
      "text/plain": [
       "[('Apple_iPod', 0.7879966497421265),\n",
       " (\"Apple's_iPod\", 0.727531373500824),\n",
       " ('Applegate', 0.7225794792175293),\n",
       " ('AppleInsidercom', 0.6945337653160095),\n",
       " (\"Apple's_iTunes\", 0.6681185960769653),\n",
       " ('cripple', 0.6454294919967651),\n",
       " (\"Apple's\", 0.6317760944366455),\n",
       " ('Hoople', 0.5639526844024658),\n",
       " ('Temple', 0.4836748540401459),\n",
       " ('purple', 0.4782470166683197)]"
      ]
     },
     "execution_count": 757,
     "metadata": {},
     "output_type": "execute_result"
    }
   ],
   "source": [
    "fasttext_model.wv.most_similar('Apple')"
   ]
  },
  {
   "cell_type": "markdown",
   "metadata": {},
   "source": [
    "# Text Summarization"
   ]
  },
  {
   "cell_type": "code",
   "execution_count": 714,
   "metadata": {},
   "outputs": [],
   "source": [
    "sentences = nltk.sent_tokenize(corpus[0])\n",
    "total_documents = len(sentences)"
   ]
  },
  {
   "cell_type": "code",
   "execution_count": 715,
   "metadata": {},
   "outputs": [],
   "source": [
    "def sentence_frequency_matrix(sentences, stopWords):\n",
    "    frequency_matrix = {}\n",
    "    lem = lemmatizer\n",
    "\n",
    "    for sent in sentences:\n",
    "        freq_table = {}\n",
    "        words = word_tokenize(sent)\n",
    "        for word in words:\n",
    "            word = word.lower()\n",
    "            word = lem.lemmatize(word)\n",
    "            if word in stopWords:\n",
    "                continue\n",
    "    \n",
    "            if word in freq_table:\n",
    "                freq_table[word] += 1\n",
    "            else:\n",
    "                freq_table[word] = 1\n",
    "\n",
    "        frequency_matrix[sent[:15]] = freq_table\n",
    "\n",
    "    return frequency_matrix"
   ]
  },
  {
   "cell_type": "code",
   "execution_count": 716,
   "metadata": {},
   "outputs": [],
   "source": [
    "freq_matrix = sentence_frequency_matrix(sentences, stopwords)"
   ]
  },
  {
   "cell_type": "code",
   "execution_count": 717,
   "metadata": {},
   "outputs": [],
   "source": [
    "def sentence_tf_matrix(freq_matrix):\n",
    "    tf_matrix = {}\n",
    "\n",
    "    for sent, f_table in freq_matrix.items():\n",
    "        tf_table = {}\n",
    "\n",
    "        count_words_in_sentence = len(f_table)\n",
    "        for word, count in f_table.items():\n",
    "            tf_table[word] = count / count_words_in_sentence\n",
    "\n",
    "        tf_matrix[sent] = tf_table\n",
    "\n",
    "    return tf_matrix"
   ]
  },
  {
   "cell_type": "code",
   "execution_count": 718,
   "metadata": {},
   "outputs": [],
   "source": [
    "tf_matrix = sentence_tf_matrix(freq_matrix)"
   ]
  },
  {
   "cell_type": "code",
   "execution_count": 719,
   "metadata": {},
   "outputs": [],
   "source": [
    "def sentence_df_matrix(freq_matrix):\n",
    "    df_matrix = {}\n",
    "\n",
    "    for sent, f_table in freq_matrix.items():\n",
    "        for word, count in f_table.items():\n",
    "            if word in df_matrix:\n",
    "                df_matrix[word] += 1\n",
    "            else:\n",
    "                df_matrix[word] = 1\n",
    "\n",
    "    return df_matrix"
   ]
  },
  {
   "cell_type": "code",
   "execution_count": 720,
   "metadata": {},
   "outputs": [],
   "source": [
    "df_matrix = sentence_df_matrix(freq_matrix)"
   ]
  },
  {
   "cell_type": "code",
   "execution_count": 721,
   "metadata": {},
   "outputs": [],
   "source": [
    "def sentence_idf_matrix(freq_matrix, df_matrix, total_documents):\n",
    "    import math\n",
    "    idf_matrix = {}\n",
    "\n",
    "    for sent, f_table in freq_matrix.items():\n",
    "        idf_table = {}\n",
    "\n",
    "        for word in f_table.keys():\n",
    "            idf_table[word] = math.log10(total_documents / float(df_matrix[word]))\n",
    "\n",
    "        idf_matrix[sent] = idf_table\n",
    "\n",
    "    return idf_matrix"
   ]
  },
  {
   "cell_type": "code",
   "execution_count": 722,
   "metadata": {},
   "outputs": [],
   "source": [
    "idf_matrix = sentence_idf_matrix(freq_matrix, df_matrix, total_documents)"
   ]
  },
  {
   "cell_type": "code",
   "execution_count": 723,
   "metadata": {},
   "outputs": [],
   "source": [
    "def sentence_tf_idf_matrix(tf_matrix, idf_matrix):\n",
    "    tf_idf_matrix = {}\n",
    "\n",
    "    for (sent1, tf_table), (sent2, idf_table) in zip(tf_matrix.items(), idf_matrix.items()):\n",
    "\n",
    "        tf_idf_table = {}\n",
    "\n",
    "        for (word1, value1), (word2, value2) in zip(tf_table.items(), \n",
    "                                                    idf_table.items()):  # keys are same: word1 == word2\n",
    "            tf_idf_table[word1] = float(value1 * value2)\n",
    "\n",
    "        tf_idf_matrix[sent1] = tf_idf_table\n",
    "\n",
    "    return tf_idf_matrix"
   ]
  },
  {
   "cell_type": "code",
   "execution_count": 724,
   "metadata": {},
   "outputs": [],
   "source": [
    "tf_idf_matrix = sentence_tf_idf_matrix(tf_matrix, idf_matrix)"
   ]
  },
  {
   "cell_type": "code",
   "execution_count": 725,
   "metadata": {},
   "outputs": [],
   "source": [
    "def score_sentences(tf_idf_matrix):\n",
    "    sentence_scores = {}\n",
    "\n",
    "    for sent, f_table in tf_idf_matrix.items():\n",
    "        total_score_per_sentence = 0\n",
    "\n",
    "        count_words_in_sentence = len(f_table)\n",
    "        for word, score in f_table.items():\n",
    "            total_score_per_sentence += score\n",
    "\n",
    "        sentence_scores[sent] = total_score_per_sentence / count_words_in_sentence\n",
    "\n",
    "    return sentence_scores"
   ]
  },
  {
   "cell_type": "code",
   "execution_count": 726,
   "metadata": {},
   "outputs": [],
   "source": [
    "sentence_scores = score_sentences(tf_idf_matrix)"
   ]
  },
  {
   "cell_type": "code",
   "execution_count": 727,
   "metadata": {},
   "outputs": [
    {
     "name": "stdout",
     "output_type": "stream",
     "text": [
      "{'Custody death r': 0.10179248221200314, 'The joint commi': 0.06977472553820856, 'Members urged t': 0.07481870532259614, 'There was one p': 0.10232148706256168, 'The report, whi': 0.056499799137089766, 'Many of those w': 0.09976876201152865, 'It questioned w': 0.10289222174044234, 'Increased resou': 0.10025186589522289, 'Committee chair': 0.0918899215712234, '\"Yet throughout': 0.05409358357349983, '\"These highly v': 0.09649459673957755, '\"Crime levels a': 0.14957262692375967, 'The misplaced o': 0.10152967460208544, '\"Until we chang': 0.06723165486153318, 'The committee a': 0.0888845243928637, 'Between 1990 an': 0.09034930525444314, 'It picked out t': 0.058903018563800966, 'It revealed tha': 0.06826391952557925, 'Even though the': 0.07132881808537661, 'Nine days into ': 0.12751924344770646}\n"
     ]
    }
   ],
   "source": [
    "print(sentence_scores)"
   ]
  },
  {
   "cell_type": "code",
   "execution_count": 728,
   "metadata": {},
   "outputs": [],
   "source": [
    "def calc_average_score(sentence_scores):\n",
    "    sumValues = 0\n",
    "    for entry in sentence_scores:\n",
    "        sumValues += sentence_scores[entry]\n",
    "\n",
    "    # Average value of a sentence from original summary_text\n",
    "    average = (sumValues / len(sentence_scores))\n",
    "\n",
    "    return average"
   ]
  },
  {
   "cell_type": "code",
   "execution_count": 729,
   "metadata": {},
   "outputs": [],
   "source": [
    "threshold = calc_average_score(sentence_scores)"
   ]
  },
  {
   "cell_type": "code",
   "execution_count": 730,
   "metadata": {},
   "outputs": [
    {
     "data": {
      "text/plain": [
       "0.08870904682305511"
      ]
     },
     "execution_count": 730,
     "metadata": {},
     "output_type": "execute_result"
    }
   ],
   "source": [
    "threshold"
   ]
  },
  {
   "cell_type": "code",
   "execution_count": 731,
   "metadata": {},
   "outputs": [],
   "source": [
    "def generate_summary(sentences, sentence_scores, threshold):\n",
    "    sentence_count = 0\n",
    "    summary = ''\n",
    "\n",
    "    for sentence in sentences:\n",
    "        if sentence[:15] in sentence_scores and sentence_scores[sentence[:15]] >= (threshold):\n",
    "            summary += \" \" + sentence\n",
    "            sentence_count += 1\n",
    "\n",
    "    return summary"
   ]
  },
  {
   "cell_type": "code",
   "execution_count": 732,
   "metadata": {},
   "outputs": [
    {
     "name": "stdout",
     "output_type": "stream",
     "text": [
      " Custody death rate 'shocks' MPs\n",
      "\n",
      "Deaths in custody have reached \"shocking\" levels, a committee of MPs and peers has warned. The joint committee on human rights found those committing suicide were mainly the most vulnerable, with mental health, drugs or alcohol problems. Members urged the government to set up a task force to tackle deaths in prisons, police cells, detention centres and special hospitals. There was one prison suicide every four days between 1999 and 2003, MPs said. The report, which followed a year-long inquiry by the committee, found the high death rate \"amounts to a serious failure to protect the right to life of a highly vulnerable group\". Many of those who ended up taking their own lives had \"presented themselves\" to the authorities with these problems before they even offended, the report said. It questioned whether prison was the most appropriate place for them to be kept and whether earlier intervention would have meant custody could have been avoided. Increased resources and a reduction in the use of imprisonment was needed to address the issue in the longer term, the report said. Committee chairman Labour MP Jean Corston said: \"Each and every death in custody is a death too many, regardless of the circumstances. \"Yet throughout our inquiry we have seen time and time again that extremely vulnerable people are entering custody with a history of mental illness, drug and alcohol problems and potential for taking their own lives.\" \"These highly vulnerable people are being held within a structure glaringly ill-suited to meet even their basic needs. \"Crime levels are falling but we are holding more people in custody than ever before. The misplaced over-reliance on the prison system for some of the most vulnerable people in the country is at the heart of the problems that we encountered. \"Until we change our whole approach to imprisoning vulnerable people we cannot begin to meet our positive obligations under Article 2 of the European Convention on Human Rights and meet our duty of care to them.\" The committee also highlighted \"deeply worrying\" cases of children and young people taking their own lives. Between 1990 and 2004, 25 children have taken their own lives in prison and two have died in secure training centres. It picked out the case of Joseph Scholes, who hanged himself from the bars of his cell in Stoke Heath Young Offender Institution in March 2002, and urged the home secretary to hold a public inquiry. It revealed that two weeks before his court appearance for a series of robberies, the 16-year-old was depressed, exhibiting suicidal tendencies and slashed his face with a knife about 30 times. Even though the trial judge had been alerted to his experience of sexual abuse and mental illness, he was sentenced to a two-year detention and training order. Nine days into his sentence, Joseph hung himself from the bars of his cell window with a sheet.\n"
     ]
    }
   ],
   "source": [
    "original_text = generate_summary(sentences, sentence_scores, 0.0 * threshold)\n",
    "print(original_text)"
   ]
  },
  {
   "cell_type": "code",
   "execution_count": 771,
   "metadata": {},
   "outputs": [
    {
     "name": "stdout",
     "output_type": "stream",
     "text": [
      " \"Crime levels are falling but we are holding more people in custody than ever before. Nine days into his sentence, Joseph hung himself from the bars of his cell window with a sheet.\n"
     ]
    }
   ],
   "source": [
    "summary = generate_summary(sentences, sentence_scores, 1.2 * threshold)\n",
    "print((summary))"
   ]
  },
  {
   "cell_type": "markdown",
   "metadata": {},
   "source": [
    "### Using Gensim"
   ]
  },
  {
   "cell_type": "code",
   "execution_count": 655,
   "metadata": {},
   "outputs": [],
   "source": [
    "from gensim.summarization import keywords\n",
    "doc_keywords = keywords(corpus[0], lemmatize=True, split=True, scores=True)"
   ]
  },
  {
   "cell_type": "code",
   "execution_count": 660,
   "metadata": {},
   "outputs": [
    {
     "name": "stdout",
     "output_type": "stream",
     "text": [
      "('vulnerable', 0.2368033373815465)\n",
      "('deaths', 0.20470307106154545)\n",
      "('suicidal', 0.1875362084047901)\n",
      "('joseph', 0.1762635431929641)\n",
      "('ill', 0.17352340373031905)\n",
      "('said', 0.16982955916691264)\n",
      "('shocking', 0.16123479880996985)\n",
      "('training', 0.14716448411524904)\n",
      "('young', 0.13966305405441834)\n",
      "('custody', 0.1389087974944819)\n",
      "('people', 0.1387280465544515)\n",
      "('committee', 0.13763098003321853)\n",
      "('year', 0.13560464463693003)\n",
      "('increased', 0.1340595962312684)\n",
      "('cell', 0.1322005806232812)\n",
      "('detention', 0.12873521419305609)\n",
      "('rate', 0.12454690603717374)\n",
      "('problems', 0.11925119378856822)\n",
      "('worrying', 0.11925119378856822)\n",
      "('members', 0.11925119378856808)\n"
     ]
    }
   ],
   "source": [
    "[print(d) for d in doc_keywords];"
   ]
  },
  {
   "cell_type": "code",
   "execution_count": 681,
   "metadata": {},
   "outputs": [],
   "source": [
    "from gensim.summarization import mz_entropy\n",
    "mz_keys = mz_entropy.mz_keywords(corpus[0], blocksize=256, split=True, scores=True)"
   ]
  },
  {
   "cell_type": "code",
   "execution_count": 683,
   "metadata": {},
   "outputs": [
    {
     "name": "stdout",
     "output_type": "stream",
     "text": [
      "('his', 0.010513140658998924)\n",
      "('death', 0.006361288459325908)\n",
      "('said', 0.006361288459325908)\n",
      "('mps', 0.004232401509370351)\n",
      "('report', 0.004232401509370351)\n",
      "('two', 0.004232401509370351)\n",
      "('custody', 0.0024383279677150224)\n",
      "('alcohol', 0.002067209604442253)\n",
      "('bars', 0.002067209604442253)\n",
      "('cell', 0.002067209604442253)\n",
      "('children', 0.002067209604442253)\n",
      "('deaths', 0.002067209604442253)\n",
      "('every', 0.002067209604442253)\n",
      "('found', 0.002067209604442253)\n",
      "('from', 0.002067209604442253)\n",
      "('highly', 0.002067209604442253)\n",
      "('himself', 0.002067209604442253)\n",
      "('joseph', 0.002067209604442253)\n",
      "('many', 0.002067209604442253)\n",
      "('rate', 0.002067209604442253)\n",
      "('suicide', 0.002067209604442253)\n",
      "('these', 0.002067209604442253)\n",
      "('those', 0.002067209604442253)\n",
      "('time', 0.002067209604442253)\n",
      "('training', 0.002067209604442253)\n",
      "('up', 0.002067209604442253)\n",
      "('whether', 0.002067209604442253)\n",
      "('young', 0.002067209604442253)\n",
      "('committee', 0.0009774089866891895)\n",
      "('we', 0.0009774089866891895)\n"
     ]
    }
   ],
   "source": [
    "[print(d) for d in mz_keys];"
   ]
  },
  {
   "cell_type": "code",
   "execution_count": 687,
   "metadata": {},
   "outputs": [],
   "source": [
    "from gensim.summarization.keywords import get_graph\n",
    "from gensim.summarization.pagerank_weighted import pagerank_weighted\n",
    "doc_graph = get_graph(corpus[0])"
   ]
  },
  {
   "cell_type": "code",
   "execution_count": 688,
   "metadata": {},
   "outputs": [],
   "source": [
    "result = pagerank_weighted(doc_graph)"
   ]
  },
  {
   "cell_type": "code",
   "execution_count": 693,
   "metadata": {},
   "outputs": [
    {
     "data": {
      "text/plain": [
       "{'custodi': 0.13750126310987576,\n",
       " 'death': 0.2084065958635447,\n",
       " 'rate': 0.12592202234184363,\n",
       " 'shock': 0.16470581891416153,\n",
       " 'mp': 0.1222347362139448,\n",
       " 'reach': 0.04655278762216555,\n",
       " 'level': 0.08862783810546443,\n",
       " 'committe': 0.13774437018197536,\n",
       " 'peer': 0.00980969127764677,\n",
       " 'warn': 0.009809691277646748,\n",
       " 'joint': 0.05078095910434941,\n",
       " 'human': 0.09111113377406833,\n",
       " 'right': 0.09111113377406845,\n",
       " 'commit': 0.0518635066227884,\n",
       " 'suicid': 0.1885118235529371,\n",
       " 'mainli': 0.009809691277646733,\n",
       " 'vulner': 0.23868637211919252,\n",
       " 'mental': 0.08845007253021196,\n",
       " 'health': 0.08873658185340709,\n",
       " 'drug': 0.08845007253021193,\n",
       " 'alcohol': 0.06300183536572451,\n",
       " 'problem': 0.11922043218241044,\n",
       " 'member': 0.1192204321824106,\n",
       " 'urg': 0.06300183536572466,\n",
       " 'govern': 0.009809691277646793,\n",
       " 'set': 0.009809691277646776,\n",
       " 'task': 0.09111113377406838,\n",
       " 'forc': 0.09111113377406851,\n",
       " 'tackl': 0.04700329466642917,\n",
       " 'prison': 0.09235975254010181,\n",
       " 'polic': 0.09076490566037149,\n",
       " 'cell': 0.13362976231685467,\n",
       " 'detent': 0.13146132252083043,\n",
       " 'centr': 0.0923545653371076,\n",
       " 'special': 0.09111113377406849,\n",
       " 'hospit': 0.09111113377406868,\n",
       " 'dai': 0.009809691277646769,\n",
       " 'said': 0.17252912916949106,\n",
       " 'report': 0.04829803648064356,\n",
       " 'follow': 0.00980969127764676,\n",
       " 'year': 0.13682810896269318,\n",
       " 'long': 0.09603075339189888,\n",
       " 'inquiri': 0.10202995304480413,\n",
       " 'high': 0.047003294666429156,\n",
       " 'amount': 0.04726446997990412,\n",
       " 'failur': 0.009809691277646767,\n",
       " 'protect': 0.009809691277646786,\n",
       " 'life': 0.009809691277646785,\n",
       " 'highli': 0.05240722146676433,\n",
       " 'group': 0.052407221466764305,\n",
       " 'end': 0.009809691277646788,\n",
       " 'take': 0.05162766585644379,\n",
       " 'live': 0.009809691277646799,\n",
       " 'present': 0.009809691277646755,\n",
       " 'author': 0.009809691277646745,\n",
       " 'offend': 0.1008154272800926,\n",
       " 'question': 0.00980969127764679,\n",
       " 'appropri': 0.09111113377406789,\n",
       " 'place': 0.09111113377406792,\n",
       " 'kept': 0.009809691277646792,\n",
       " 'earlier': 0.09111113377406865,\n",
       " 'intervent': 0.0911111337740687,\n",
       " 'meant': 0.05070864830900877,\n",
       " 'avoid': 0.0696293290137963,\n",
       " 'increas': 0.1340747432946107,\n",
       " 'resourc': 0.06962932901379623,\n",
       " 'reduct': 0.009809691277646783,\n",
       " 'us': 0.009809691277646774,\n",
       " 'imprison': 0.05240722146676427,\n",
       " 'need': 0.10074954709729389,\n",
       " 'address': 0.009809691277646793,\n",
       " 'issu': 0.009809691277646757,\n",
       " 'longer': 0.09111113377406849,\n",
       " 'term': 0.09111113377406849,\n",
       " 'chairman': 0.09891562868896382,\n",
       " 'labour': 0.053942515471203614,\n",
       " 'jean': 0.05210192811556631,\n",
       " 'corston': 0.09479028981100446,\n",
       " 'regardless': 0.009809691277646745,\n",
       " 'circumst': 0.009809691277646755,\n",
       " 'seen': 0.09111113377406793,\n",
       " 'time': 0.09111113377406785,\n",
       " 'extrem': 0.052407221466764256,\n",
       " 'peopl': 0.14059097695014694,\n",
       " 'enter': 0.050708648309008765,\n",
       " 'histori': 0.009809691277646745,\n",
       " 'ill': 0.17504281024587764,\n",
       " 'potenti': 0.00980969127764678,\n",
       " 'held': 0.00980969127764674,\n",
       " 'structur': 0.05251761874346275,\n",
       " 'glaringli': 0.0957219840895795,\n",
       " 'suit': 0.0488587964257261,\n",
       " 'meet': 0.009809691277646752,\n",
       " 'basic': 0.05476074813850695,\n",
       " 'crime': 0.09430350644278575,\n",
       " 'fall': 0.009809691277646762,\n",
       " 'hold': 0.009809691277646781,\n",
       " 'misplac': 0.00980969127764675,\n",
       " 'relianc': 0.009809691277646793,\n",
       " 'countri': 0.009809691277646755,\n",
       " 'heart': 0.009809691277646772,\n",
       " 'encount': 0.009809691277646769,\n",
       " 'chang': 0.009809691277646745,\n",
       " 'approach': 0.009809691277646746,\n",
       " 'begin': 0.009809691277646738,\n",
       " 'posit': 0.09111113377406813,\n",
       " 'oblig': 0.09111113377406813,\n",
       " 'articl': 0.00980969127764678,\n",
       " 'european': 0.09111113377406767,\n",
       " 'convent': 0.09111113377406774,\n",
       " 'duti': 0.009809691277646792,\n",
       " 'care': 0.009809691277646753,\n",
       " 'highlight': 0.06300183536572494,\n",
       " 'deepli': 0.11922043218241131,\n",
       " 'worri': 0.11922043218241135,\n",
       " 'case': 0.06300183536572514,\n",
       " 'children': 0.009809691277646785,\n",
       " 'young': 0.1415885666184697,\n",
       " 'taken': 0.009809691277646797,\n",
       " 'di': 0.00980969127764676,\n",
       " 'secur': 0.0532521537703931,\n",
       " 'train': 0.14605246438865213,\n",
       " 'pick': 0.009809691277646785,\n",
       " 'joseph': 0.17703835281515404,\n",
       " 'schole': 0.062468727427039364,\n",
       " 'hang': 0.009809691277646727,\n",
       " 'bar': 0.009809691277646769,\n",
       " 'stoke': 0.05479014165865968,\n",
       " 'heath': 0.10081542728009263,\n",
       " 'institut': 0.05479014165865979,\n",
       " 'march': 0.009809691277646776,\n",
       " 'home': 0.09111113377406806,\n",
       " 'secretari': 0.091111133774068,\n",
       " 'public': 0.055332022176056025,\n",
       " 'reveal': 0.009809691277646778,\n",
       " 'week': 0.009809691277646774,\n",
       " 'court': 0.09111113377406753,\n",
       " 'appear': 0.09111113377406765,\n",
       " 'seri': 0.00980969127764679,\n",
       " 'robberi': 0.009809691277646743,\n",
       " 'old': 0.050508422493489497,\n",
       " 'depress': 0.05474500655783334,\n",
       " 'exhibit': 0.10071426523221186,\n",
       " 'tendenc': 0.0518635066227884,\n",
       " 'slash': 0.009809691277646764,\n",
       " 'face': 0.009809691277646776,\n",
       " 'knife': 0.00980969127764679,\n",
       " 'trial': 0.09111113377406824,\n",
       " 'judg': 0.0911111337740683,\n",
       " 'alert': 0.00980969127764678,\n",
       " 'experi': 0.009809691277646786,\n",
       " 'sexual': 0.0911111337740678,\n",
       " 'abus': 0.09111113377406779,\n",
       " 'sentenc': 0.06246872742703942,\n",
       " 'order': 0.0532521537703931,\n",
       " 'hung': 0.06246872742703935,\n",
       " 'window': 0.04955709274508551,\n",
       " 'sheet': 0.00980969127764675}"
      ]
     },
     "execution_count": 693,
     "metadata": {},
     "output_type": "execute_result"
    }
   ],
   "source": [
    "result"
   ]
  },
  {
   "cell_type": "code",
   "execution_count": 710,
   "metadata": {},
   "outputs": [],
   "source": [
    "from gensim.summarization.summarizer import summarize, summarize_corpus"
   ]
  },
  {
   "cell_type": "code",
   "execution_count": 709,
   "metadata": {},
   "outputs": [
    {
     "data": {
      "text/plain": [
       "'Deaths in custody have reached \"shocking\" levels, a committee of MPs and peers has warned.\\nThe joint committee on human rights found those committing suicide were mainly the most vulnerable, with mental health, drugs or alcohol problems.\\nMembers urged the government to set up a task force to tackle deaths in prisons, police cells, detention centres and special hospitals.\\nThere was one prison suicide every four days between 1999 and 2003, MPs said.\\nThe report, which followed a year-long inquiry by the committee, found the high death rate \"amounts to a serious failure to protect the right to life of a highly vulnerable group\".\\nMany of those who ended up taking their own lives had \"presented themselves\" to the authorities with these problems before they even offended, the report said.\\n\"Yet throughout our inquiry we have seen time and time again that extremely vulnerable people are entering custody with a history of mental illness, drug and alcohol problems and potential for taking their own lives.\" \"These highly vulnerable people are being held within a structure glaringly ill-suited to meet even their basic needs.\\nThe misplaced over-reliance on the prison system for some of the most vulnerable people in the country is at the heart of the problems that we encountered.\\nThe committee also highlighted \"deeply worrying\" cases of children and young people taking their own lives.\\nIt picked out the case of Joseph Scholes, who hanged himself from the bars of his cell in Stoke Heath Young Offender Institution in March 2002, and urged the home secretary to hold a public inquiry.'"
      ]
     },
     "execution_count": 709,
     "metadata": {},
     "output_type": "execute_result"
    }
   ],
   "source": [
    "summarize(corpus[0], ratio=0.5)"
   ]
  },
  {
   "cell_type": "code",
   "execution_count": null,
   "metadata": {},
   "outputs": [],
   "source": []
  },
  {
   "cell_type": "code",
   "execution_count": null,
   "metadata": {},
   "outputs": [],
   "source": []
  }
 ],
 "metadata": {
  "kernelspec": {
   "display_name": "Python 3",
   "language": "python",
   "name": "python3"
  },
  "language_info": {
   "codemirror_mode": {
    "name": "ipython",
    "version": 3
   },
   "file_extension": ".py",
   "mimetype": "text/x-python",
   "name": "python",
   "nbconvert_exporter": "python",
   "pygments_lexer": "ipython3",
   "version": "3.7.6"
  }
 },
 "nbformat": 4,
 "nbformat_minor": 4
}
